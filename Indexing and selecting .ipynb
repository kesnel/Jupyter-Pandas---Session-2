{
 "cells": [
  {
   "cell_type": "markdown",
   "metadata": {},
   "source": [
    "# Indexing and selecting"
   ]
  },
  {
   "source": [
    "# create dataframe\n",
    "import pandas as pd\n",
    "import numpy as np\n",
    "my_list = np.array([[1,2,4],[4,5,6]])\n",
    "df = pd.DataFrame(data=my_list,columns=list(\"xyz\"),index=list(\"ab\"))\n",
    "df\n"
   ],
   "cell_type": "code",
   "metadata": {},
   "execution_count": 1,
   "outputs": [
    {
     "output_type": "execute_result",
     "data": {
      "text/plain": [
       "   x  y  z\n",
       "a  1  2  4\n",
       "b  4  5  6"
      ],
      "text/html": "<div>\n<style scoped>\n    .dataframe tbody tr th:only-of-type {\n        vertical-align: middle;\n    }\n\n    .dataframe tbody tr th {\n        vertical-align: top;\n    }\n\n    .dataframe thead th {\n        text-align: right;\n    }\n</style>\n<table border=\"1\" class=\"dataframe\">\n  <thead>\n    <tr style=\"text-align: right;\">\n      <th></th>\n      <th>x</th>\n      <th>y</th>\n      <th>z</th>\n    </tr>\n  </thead>\n  <tbody>\n    <tr>\n      <th>a</th>\n      <td>1</td>\n      <td>2</td>\n      <td>4</td>\n    </tr>\n    <tr>\n      <th>b</th>\n      <td>4</td>\n      <td>5</td>\n      <td>6</td>\n    </tr>\n  </tbody>\n</table>\n</div>"
     },
     "metadata": {},
     "execution_count": 1
    }
   ]
  },
  {
   "cell_type": "code",
   "execution_count": 2,
   "metadata": {},
   "outputs": [
    {
     "output_type": "execute_result",
     "data": {
      "text/plain": [
       "   col1  col2  col3\n",
       "0     1     2     4\n",
       "1     4     5     6"
      ],
      "text/html": "<div>\n<style scoped>\n    .dataframe tbody tr th:only-of-type {\n        vertical-align: middle;\n    }\n\n    .dataframe tbody tr th {\n        vertical-align: top;\n    }\n\n    .dataframe thead th {\n        text-align: right;\n    }\n</style>\n<table border=\"1\" class=\"dataframe\">\n  <thead>\n    <tr style=\"text-align: right;\">\n      <th></th>\n      <th>col1</th>\n      <th>col2</th>\n      <th>col3</th>\n    </tr>\n  </thead>\n  <tbody>\n    <tr>\n      <th>0</th>\n      <td>1</td>\n      <td>2</td>\n      <td>4</td>\n    </tr>\n    <tr>\n      <th>1</th>\n      <td>4</td>\n      <td>5</td>\n      <td>6</td>\n    </tr>\n  </tbody>\n</table>\n</div>"
     },
     "metadata": {},
     "execution_count": 2
    }
   ],
   "source": [
    "# create dataframe\n",
    "import pandas as pd\n",
    "import numpy as np\n",
    "my_list = np.array([[1,2,4],[4,5,6]])\n",
    "df = pd.DataFrame(data=my_list,columns=['col1','col2','col3'])\n",
    "df\n"
   ]
  },
  {
   "cell_type": "code",
   "execution_count": 4,
   "metadata": {},
   "outputs": [],
   "source": [
    "# kreye yon application ki simile note etidyan yo pou boutcamp lan\n",
    "columns = ['Python','EDA','DM','BA','AS','ANS',\"CAP\"]\n",
    "index =['FLO','WIZ','BON','GOT','KES','WED','NANA','FRE','SLY','DEZ','CAM','PYE','SEJ','DAV','PAS','CHRIS','ADI','CHAS','MES','DJE']\n",
    "note = np.random.randint(55,100,(len(index),len(columns)))\n"
   ]
  },
  {
   "cell_type": "code",
   "execution_count": 5,
   "metadata": {},
   "outputs": [
    {
     "output_type": "execute_result",
     "data": {
      "text/plain": [
       "       Python  EDA  DM  BA  AS  ANS  CAP    Moy\n",
       "DJE        73   88  96  84  77   80   83  83.00\n",
       "NANA       81   62  78  93  83   85   93  82.14\n",
       "ADI        73   66  92  91  79   86   87  82.00\n",
       "CHRIS      91   79  82  74  64   85   93  81.14\n",
       "GOT        87   82  75  75  68   85   94  80.86\n",
       "PAS        74   85  93  68  59   97   81  79.57\n",
       "SLY        99   79  62  56  91   97   71  79.29\n",
       "BON        75   84  84  85  61   72   88  78.43\n",
       "PYE        80   68  73  96  82   67   78  77.71\n",
       "MES        72   98  68  55  68   92   89  77.43\n",
       "CAM        68   94  70  90  69   70   81  77.43\n",
       "DEZ        86   56  87  78  99   55   81  77.43\n",
       "WED        76   80  83  86  68   76   73  77.43\n",
       "KES        97   89  58  92  64   80   60  77.14\n",
       "CHAS       62   78  61  68  82   98   89  76.86\n",
       "SEJ        75   86  86  58  66   83   73  75.29\n",
       "DAV        65   63  73  83  83   70   89  75.14\n",
       "FRE        62   95  95  69  63   58   68  72.86\n",
       "WIZ        79   61  72  71  69   71   73  70.86\n",
       "FLO        83   59  92  55  71   68   62  70.00"
      ],
      "text/html": "<div>\n<style scoped>\n    .dataframe tbody tr th:only-of-type {\n        vertical-align: middle;\n    }\n\n    .dataframe tbody tr th {\n        vertical-align: top;\n    }\n\n    .dataframe thead th {\n        text-align: right;\n    }\n</style>\n<table border=\"1\" class=\"dataframe\">\n  <thead>\n    <tr style=\"text-align: right;\">\n      <th></th>\n      <th>Python</th>\n      <th>EDA</th>\n      <th>DM</th>\n      <th>BA</th>\n      <th>AS</th>\n      <th>ANS</th>\n      <th>CAP</th>\n      <th>Moy</th>\n    </tr>\n  </thead>\n  <tbody>\n    <tr>\n      <th>DJE</th>\n      <td>73</td>\n      <td>88</td>\n      <td>96</td>\n      <td>84</td>\n      <td>77</td>\n      <td>80</td>\n      <td>83</td>\n      <td>83.00</td>\n    </tr>\n    <tr>\n      <th>NANA</th>\n      <td>81</td>\n      <td>62</td>\n      <td>78</td>\n      <td>93</td>\n      <td>83</td>\n      <td>85</td>\n      <td>93</td>\n      <td>82.14</td>\n    </tr>\n    <tr>\n      <th>ADI</th>\n      <td>73</td>\n      <td>66</td>\n      <td>92</td>\n      <td>91</td>\n      <td>79</td>\n      <td>86</td>\n      <td>87</td>\n      <td>82.00</td>\n    </tr>\n    <tr>\n      <th>CHRIS</th>\n      <td>91</td>\n      <td>79</td>\n      <td>82</td>\n      <td>74</td>\n      <td>64</td>\n      <td>85</td>\n      <td>93</td>\n      <td>81.14</td>\n    </tr>\n    <tr>\n      <th>GOT</th>\n      <td>87</td>\n      <td>82</td>\n      <td>75</td>\n      <td>75</td>\n      <td>68</td>\n      <td>85</td>\n      <td>94</td>\n      <td>80.86</td>\n    </tr>\n    <tr>\n      <th>PAS</th>\n      <td>74</td>\n      <td>85</td>\n      <td>93</td>\n      <td>68</td>\n      <td>59</td>\n      <td>97</td>\n      <td>81</td>\n      <td>79.57</td>\n    </tr>\n    <tr>\n      <th>SLY</th>\n      <td>99</td>\n      <td>79</td>\n      <td>62</td>\n      <td>56</td>\n      <td>91</td>\n      <td>97</td>\n      <td>71</td>\n      <td>79.29</td>\n    </tr>\n    <tr>\n      <th>BON</th>\n      <td>75</td>\n      <td>84</td>\n      <td>84</td>\n      <td>85</td>\n      <td>61</td>\n      <td>72</td>\n      <td>88</td>\n      <td>78.43</td>\n    </tr>\n    <tr>\n      <th>PYE</th>\n      <td>80</td>\n      <td>68</td>\n      <td>73</td>\n      <td>96</td>\n      <td>82</td>\n      <td>67</td>\n      <td>78</td>\n      <td>77.71</td>\n    </tr>\n    <tr>\n      <th>MES</th>\n      <td>72</td>\n      <td>98</td>\n      <td>68</td>\n      <td>55</td>\n      <td>68</td>\n      <td>92</td>\n      <td>89</td>\n      <td>77.43</td>\n    </tr>\n    <tr>\n      <th>CAM</th>\n      <td>68</td>\n      <td>94</td>\n      <td>70</td>\n      <td>90</td>\n      <td>69</td>\n      <td>70</td>\n      <td>81</td>\n      <td>77.43</td>\n    </tr>\n    <tr>\n      <th>DEZ</th>\n      <td>86</td>\n      <td>56</td>\n      <td>87</td>\n      <td>78</td>\n      <td>99</td>\n      <td>55</td>\n      <td>81</td>\n      <td>77.43</td>\n    </tr>\n    <tr>\n      <th>WED</th>\n      <td>76</td>\n      <td>80</td>\n      <td>83</td>\n      <td>86</td>\n      <td>68</td>\n      <td>76</td>\n      <td>73</td>\n      <td>77.43</td>\n    </tr>\n    <tr>\n      <th>KES</th>\n      <td>97</td>\n      <td>89</td>\n      <td>58</td>\n      <td>92</td>\n      <td>64</td>\n      <td>80</td>\n      <td>60</td>\n      <td>77.14</td>\n    </tr>\n    <tr>\n      <th>CHAS</th>\n      <td>62</td>\n      <td>78</td>\n      <td>61</td>\n      <td>68</td>\n      <td>82</td>\n      <td>98</td>\n      <td>89</td>\n      <td>76.86</td>\n    </tr>\n    <tr>\n      <th>SEJ</th>\n      <td>75</td>\n      <td>86</td>\n      <td>86</td>\n      <td>58</td>\n      <td>66</td>\n      <td>83</td>\n      <td>73</td>\n      <td>75.29</td>\n    </tr>\n    <tr>\n      <th>DAV</th>\n      <td>65</td>\n      <td>63</td>\n      <td>73</td>\n      <td>83</td>\n      <td>83</td>\n      <td>70</td>\n      <td>89</td>\n      <td>75.14</td>\n    </tr>\n    <tr>\n      <th>FRE</th>\n      <td>62</td>\n      <td>95</td>\n      <td>95</td>\n      <td>69</td>\n      <td>63</td>\n      <td>58</td>\n      <td>68</td>\n      <td>72.86</td>\n    </tr>\n    <tr>\n      <th>WIZ</th>\n      <td>79</td>\n      <td>61</td>\n      <td>72</td>\n      <td>71</td>\n      <td>69</td>\n      <td>71</td>\n      <td>73</td>\n      <td>70.86</td>\n    </tr>\n    <tr>\n      <th>FLO</th>\n      <td>83</td>\n      <td>59</td>\n      <td>92</td>\n      <td>55</td>\n      <td>71</td>\n      <td>68</td>\n      <td>62</td>\n      <td>70.00</td>\n    </tr>\n  </tbody>\n</table>\n</div>"
     },
     "metadata": {},
     "execution_count": 5
    }
   ],
   "source": [
    "df = pd.DataFrame(data=note,index=index,columns=columns)\n",
    "df[\"Moy\"]=np.round(df.mean(axis=1),2)\n",
    "df.sort_values(by=\"Moy\",ascending=0)"
   ]
  },
  {
   "cell_type": "code",
   "execution_count": 37,
   "metadata": {},
   "outputs": [
    {
     "data": {
      "text/html": [
       "<div>\n",
       "<style scoped>\n",
       "    .dataframe tbody tr th:only-of-type {\n",
       "        vertical-align: middle;\n",
       "    }\n",
       "\n",
       "    .dataframe tbody tr th {\n",
       "        vertical-align: top;\n",
       "    }\n",
       "\n",
       "    .dataframe thead th {\n",
       "        text-align: right;\n",
       "    }\n",
       "</style>\n",
       "<table border=\"1\" class=\"dataframe\">\n",
       "  <thead>\n",
       "    <tr style=\"text-align: right;\">\n",
       "      <th></th>\n",
       "      <th>a</th>\n",
       "      <th>b</th>\n",
       "      <th>c</th>\n",
       "    </tr>\n",
       "  </thead>\n",
       "  <tbody>\n",
       "    <tr>\n",
       "      <th>0</th>\n",
       "      <td>1</td>\n",
       "      <td>1</td>\n",
       "      <td>1</td>\n",
       "    </tr>\n",
       "    <tr>\n",
       "      <th>1</th>\n",
       "      <td>3</td>\n",
       "      <td>2</td>\n",
       "      <td>3</td>\n",
       "    </tr>\n",
       "    <tr>\n",
       "      <th>2</th>\n",
       "      <td>4</td>\n",
       "      <td>4</td>\n",
       "      <td>4</td>\n",
       "    </tr>\n",
       "    <tr>\n",
       "      <th>3</th>\n",
       "      <td>3</td>\n",
       "      <td>4</td>\n",
       "      <td>5</td>\n",
       "    </tr>\n",
       "  </tbody>\n",
       "</table>\n",
       "</div>"
      ],
      "text/plain": [
       "   a  b  c\n",
       "0  1  1  1\n",
       "1  3  2  3\n",
       "2  4  4  4\n",
       "3  3  4  5"
      ]
     },
     "execution_count": 37,
     "metadata": {},
     "output_type": "execute_result"
    }
   ],
   "source": [
    "values=dict(a=[1,3,4,3],b=[1,2,4,4],c=[1,3,4,5])\n",
    "\n",
    "df = pd.DataFrame(values)\n",
    "df"
   ]
  },
  {
   "cell_type": "code",
   "execution_count": 48,
   "metadata": {},
   "outputs": [
    {
     "data": {
      "text/html": [
       "<div>\n",
       "<style scoped>\n",
       "    .dataframe tbody tr th:only-of-type {\n",
       "        vertical-align: middle;\n",
       "    }\n",
       "\n",
       "    .dataframe tbody tr th {\n",
       "        vertical-align: top;\n",
       "    }\n",
       "\n",
       "    .dataframe thead th {\n",
       "        text-align: right;\n",
       "    }\n",
       "</style>\n",
       "<table border=\"1\" class=\"dataframe\">\n",
       "  <thead>\n",
       "    <tr style=\"text-align: right;\">\n",
       "      <th></th>\n",
       "      <th>one</th>\n",
       "      <th>two</th>\n",
       "      <th>three</th>\n",
       "      <th>four</th>\n",
       "    </tr>\n",
       "  </thead>\n",
       "  <tbody>\n",
       "    <tr>\n",
       "      <th>0</th>\n",
       "      <td>1</td>\n",
       "      <td>3.0</td>\n",
       "      <td>5.0</td>\n",
       "      <td>NaN</td>\n",
       "    </tr>\n",
       "    <tr>\n",
       "      <th>1</th>\n",
       "      <td>4</td>\n",
       "      <td>3.5</td>\n",
       "      <td>5.5</td>\n",
       "      <td>NaN</td>\n",
       "    </tr>\n",
       "    <tr>\n",
       "      <th>2</th>\n",
       "      <td>4</td>\n",
       "      <td>3.0</td>\n",
       "      <td>NaN</td>\n",
       "      <td>9.0</td>\n",
       "    </tr>\n",
       "  </tbody>\n",
       "</table>\n",
       "</div>"
      ],
      "text/plain": [
       "   one  two  three  four\n",
       "0    1  3.0    5.0   NaN\n",
       "1    4  3.5    5.5   NaN\n",
       "2    4  3.0    NaN   9.0"
      ]
     },
     "execution_count": 48,
     "metadata": {},
     "output_type": "execute_result"
    }
   ],
   "source": [
    "values=[{\"one\":1,\"two\":3,\"three\":5},{\"one\":4,\"two\":3.5,\"three\":5.5},{\"one\":4,\"two\":3,\"four\":9}]\n",
    "df =pd.DataFrame(values)\n",
    "df.tail(5)"
   ]
  },
  {
   "cell_type": "code",
   "execution_count": 42,
   "metadata": {},
   "outputs": [
    {
     "data": {
      "text/plain": [
       "1"
      ]
     },
     "execution_count": 42,
     "metadata": {},
     "output_type": "execute_result"
    }
   ],
   "source": [
    "values=[((\"a\",1),(\"b\",2)),((\"a\",4),(\"b\",5))]\n",
    "df =pd.DataFrame(values)\n",
    "df[0][0][1]"
   ]
  },
  {
   "cell_type": "code",
   "execution_count": 1,
   "metadata": {},
   "outputs": [],
   "source": [
    "import pandas as pd\n",
    "food=pd.read_excel(\"sampledatafoodsales.xlsx\", sheet_name=1)"
   ]
  },
  {
   "cell_type": "markdown",
   "metadata": {},
   "source": [
    "Obje natif yo nan Python ban nou bon mwayen pou n endekse done yo. Pandas erite de tout sa yo. Ann konsidere DataFrame sa:"
   ]
  },
  {
   "cell_type": "code",
   "execution_count": 2,
   "metadata": {},
   "outputs": [
    {
     "data": {
      "text/html": [
       "<div>\n",
       "<style scoped>\n",
       "    .dataframe tbody tr th:only-of-type {\n",
       "        vertical-align: middle;\n",
       "    }\n",
       "\n",
       "    .dataframe tbody tr th {\n",
       "        vertical-align: top;\n",
       "    }\n",
       "\n",
       "    .dataframe thead th {\n",
       "        text-align: right;\n",
       "    }\n",
       "</style>\n",
       "<table border=\"1\" class=\"dataframe\">\n",
       "  <thead>\n",
       "    <tr style=\"text-align: right;\">\n",
       "      <th></th>\n",
       "      <th>OrderDate</th>\n",
       "      <th>Region</th>\n",
       "      <th>City</th>\n",
       "      <th>Category</th>\n",
       "      <th>Product</th>\n",
       "      <th>Quantity</th>\n",
       "      <th>UnitPrice</th>\n",
       "      <th>TotalPrice</th>\n",
       "    </tr>\n",
       "  </thead>\n",
       "  <tbody>\n",
       "    <tr>\n",
       "      <th>0</th>\n",
       "      <td>2020-01-01</td>\n",
       "      <td>East</td>\n",
       "      <td>Boston</td>\n",
       "      <td>Bars</td>\n",
       "      <td>Carrot</td>\n",
       "      <td>33</td>\n",
       "      <td>1.77</td>\n",
       "      <td>58.41</td>\n",
       "    </tr>\n",
       "    <tr>\n",
       "      <th>1</th>\n",
       "      <td>2020-01-04</td>\n",
       "      <td>East</td>\n",
       "      <td>Boston</td>\n",
       "      <td>Crackers</td>\n",
       "      <td>Whole Wheat</td>\n",
       "      <td>87</td>\n",
       "      <td>3.49</td>\n",
       "      <td>303.63</td>\n",
       "    </tr>\n",
       "    <tr>\n",
       "      <th>2</th>\n",
       "      <td>2020-01-07</td>\n",
       "      <td>West</td>\n",
       "      <td>Los Angeles</td>\n",
       "      <td>Cookies</td>\n",
       "      <td>Chocolate Chip</td>\n",
       "      <td>58</td>\n",
       "      <td>1.87</td>\n",
       "      <td>108.46</td>\n",
       "    </tr>\n",
       "    <tr>\n",
       "      <th>3</th>\n",
       "      <td>2020-01-10</td>\n",
       "      <td>East</td>\n",
       "      <td>New York</td>\n",
       "      <td>Cookies</td>\n",
       "      <td>Chocolate Chip</td>\n",
       "      <td>82</td>\n",
       "      <td>1.87</td>\n",
       "      <td>153.34</td>\n",
       "    </tr>\n",
       "    <tr>\n",
       "      <th>4</th>\n",
       "      <td>2020-01-13</td>\n",
       "      <td>East</td>\n",
       "      <td>Boston</td>\n",
       "      <td>Cookies</td>\n",
       "      <td>Arrowroot</td>\n",
       "      <td>38</td>\n",
       "      <td>2.18</td>\n",
       "      <td>82.84</td>\n",
       "    </tr>\n",
       "    <tr>\n",
       "      <th>...</th>\n",
       "      <td>...</td>\n",
       "      <td>...</td>\n",
       "      <td>...</td>\n",
       "      <td>...</td>\n",
       "      <td>...</td>\n",
       "      <td>...</td>\n",
       "      <td>...</td>\n",
       "      <td>...</td>\n",
       "    </tr>\n",
       "    <tr>\n",
       "      <th>239</th>\n",
       "      <td>2021-12-18</td>\n",
       "      <td>East</td>\n",
       "      <td>Boston</td>\n",
       "      <td>Cookies</td>\n",
       "      <td>Arrowroot</td>\n",
       "      <td>34</td>\n",
       "      <td>2.18</td>\n",
       "      <td>74.12</td>\n",
       "    </tr>\n",
       "    <tr>\n",
       "      <th>240</th>\n",
       "      <td>2021-12-21</td>\n",
       "      <td>East</td>\n",
       "      <td>Boston</td>\n",
       "      <td>Cookies</td>\n",
       "      <td>Chocolate Chip</td>\n",
       "      <td>245</td>\n",
       "      <td>1.87</td>\n",
       "      <td>458.15</td>\n",
       "    </tr>\n",
       "    <tr>\n",
       "      <th>241</th>\n",
       "      <td>2021-12-24</td>\n",
       "      <td>East</td>\n",
       "      <td>Boston</td>\n",
       "      <td>Crackers</td>\n",
       "      <td>Whole Wheat</td>\n",
       "      <td>30</td>\n",
       "      <td>3.49</td>\n",
       "      <td>104.70</td>\n",
       "    </tr>\n",
       "    <tr>\n",
       "      <th>242</th>\n",
       "      <td>2021-12-27</td>\n",
       "      <td>West</td>\n",
       "      <td>Los Angeles</td>\n",
       "      <td>Bars</td>\n",
       "      <td>Bran</td>\n",
       "      <td>30</td>\n",
       "      <td>1.87</td>\n",
       "      <td>56.10</td>\n",
       "    </tr>\n",
       "    <tr>\n",
       "      <th>243</th>\n",
       "      <td>2021-12-30</td>\n",
       "      <td>West</td>\n",
       "      <td>Los Angeles</td>\n",
       "      <td>Cookies</td>\n",
       "      <td>Oatmeal Raisin</td>\n",
       "      <td>44</td>\n",
       "      <td>2.84</td>\n",
       "      <td>124.96</td>\n",
       "    </tr>\n",
       "  </tbody>\n",
       "</table>\n",
       "<p>244 rows × 8 columns</p>\n",
       "</div>"
      ],
      "text/plain": [
       "     OrderDate Region         City  Category         Product  Quantity  \\\n",
       "0   2020-01-01   East       Boston      Bars          Carrot        33   \n",
       "1   2020-01-04   East       Boston  Crackers     Whole Wheat        87   \n",
       "2   2020-01-07   West  Los Angeles   Cookies  Chocolate Chip        58   \n",
       "3   2020-01-10   East     New York   Cookies  Chocolate Chip        82   \n",
       "4   2020-01-13   East       Boston   Cookies       Arrowroot        38   \n",
       "..         ...    ...          ...       ...             ...       ...   \n",
       "239 2021-12-18   East       Boston   Cookies       Arrowroot        34   \n",
       "240 2021-12-21   East       Boston   Cookies  Chocolate Chip       245   \n",
       "241 2021-12-24   East       Boston  Crackers     Whole Wheat        30   \n",
       "242 2021-12-27   West  Los Angeles      Bars            Bran        30   \n",
       "243 2021-12-30   West  Los Angeles   Cookies  Oatmeal Raisin        44   \n",
       "\n",
       "     UnitPrice  TotalPrice  \n",
       "0         1.77       58.41  \n",
       "1         3.49      303.63  \n",
       "2         1.87      108.46  \n",
       "3         1.87      153.34  \n",
       "4         2.18       82.84  \n",
       "..         ...         ...  \n",
       "239       2.18       74.12  \n",
       "240       1.87      458.15  \n",
       "241       3.49      104.70  \n",
       "242       1.87       56.10  \n",
       "243       2.84      124.96  \n",
       "\n",
       "[244 rows x 8 columns]"
      ]
     },
     "execution_count": 2,
     "metadata": {},
     "output_type": "execute_result"
    }
   ],
   "source": [
    "food"
   ]
  },
  {
   "cell_type": "markdown",
   "metadata": {},
   "source": [
    "Nan Python, nou kapab aksede a propriyete yon obje menm jan ak yon atribi. Pa egzanp, yon obje `moun` ka gen propriyete `wote`, pou nou aksede a wote moun lan nou kapab fe `moun.wote`. Se menm bagay la nan Pandas, pou nou aksede a yon kolonn, nou ka fe `dataframe.column`. Pa egzanp, pou nou aksede a kolonn `Region` an, nou kapab fe :"
   ]
  },
  {
   "cell_type": "code",
   "execution_count": 3,
   "metadata": {},
   "outputs": [
    {
     "data": {
      "text/plain": [
       "0      East\n",
       "1      East\n",
       "2      West\n",
       "3      East\n",
       "4      East\n",
       "       ... \n",
       "239    East\n",
       "240    East\n",
       "241    East\n",
       "242    West\n",
       "243    West\n",
       "Name: Region, Length: 244, dtype: object"
      ]
     },
     "execution_count": 3,
     "metadata": {},
     "output_type": "execute_result"
    }
   ],
   "source": [
    "food.Region"
   ]
  },
  {
   "cell_type": "markdown",
   "metadata": {},
   "source": [
    "Men jan tou, si w gen yon diksyone nan Python, ou kapab aksede a yon vale ladan l, le w itilize `[]`. Nan ka sa pou nou aksede a kolonn `Region` an, nou kapab fe :"
   ]
  },
  {
   "cell_type": "code",
   "execution_count": 4,
   "metadata": {},
   "outputs": [
    {
     "data": {
      "text/plain": [
       "0      East\n",
       "1      East\n",
       "2      West\n",
       "3      East\n",
       "4      East\n",
       "       ... \n",
       "239    East\n",
       "240    East\n",
       "241    East\n",
       "242    West\n",
       "243    West\n",
       "Name: Region, Length: 244, dtype: object"
      ]
     },
     "execution_count": 4,
     "metadata": {},
     "output_type": "execute_result"
    }
   ],
   "source": [
    "food['Region']"
   ]
  },
  {
   "cell_type": "markdown",
   "metadata": {},
   "source": [
    "Pandas Series yo fonksyone tankou yon diksyone, nou kapab fasilman jwenn premye Region an le nou fe:"
   ]
  },
  {
   "cell_type": "code",
   "execution_count": 5,
   "metadata": {},
   "outputs": [
    {
     "data": {
      "text/plain": [
       "'East'"
      ]
     },
     "execution_count": 5,
     "metadata": {},
     "output_type": "execute_result"
    }
   ],
   "source": [
    "food['Region'][0]"
   ]
  },
  {
   "cell_type": "markdown",
   "metadata": {},
   "source": [
    "## Index"
   ]
  },
  {
   "cell_type": "markdown",
   "metadata": {},
   "source": [
    "`Index` yo nan yon DataFrame ban nou yon mwayen pou nou idantifye liy yo.   \n",
    "Ann regade DataFrame food la"
   ]
  },
  {
   "cell_type": "code",
   "execution_count": 6,
   "metadata": {},
   "outputs": [
    {
     "data": {
      "text/html": [
       "<div>\n",
       "<style scoped>\n",
       "    .dataframe tbody tr th:only-of-type {\n",
       "        vertical-align: middle;\n",
       "    }\n",
       "\n",
       "    .dataframe tbody tr th {\n",
       "        vertical-align: top;\n",
       "    }\n",
       "\n",
       "    .dataframe thead th {\n",
       "        text-align: right;\n",
       "    }\n",
       "</style>\n",
       "<table border=\"1\" class=\"dataframe\">\n",
       "  <thead>\n",
       "    <tr style=\"text-align: right;\">\n",
       "      <th></th>\n",
       "      <th>OrderDate</th>\n",
       "      <th>Region</th>\n",
       "      <th>City</th>\n",
       "      <th>Category</th>\n",
       "      <th>Product</th>\n",
       "      <th>Quantity</th>\n",
       "      <th>UnitPrice</th>\n",
       "      <th>TotalPrice</th>\n",
       "    </tr>\n",
       "  </thead>\n",
       "  <tbody>\n",
       "    <tr>\n",
       "      <th>0</th>\n",
       "      <td>2020-01-01</td>\n",
       "      <td>East</td>\n",
       "      <td>Boston</td>\n",
       "      <td>Bars</td>\n",
       "      <td>Carrot</td>\n",
       "      <td>33</td>\n",
       "      <td>1.77</td>\n",
       "      <td>58.41</td>\n",
       "    </tr>\n",
       "    <tr>\n",
       "      <th>1</th>\n",
       "      <td>2020-01-04</td>\n",
       "      <td>East</td>\n",
       "      <td>Boston</td>\n",
       "      <td>Crackers</td>\n",
       "      <td>Whole Wheat</td>\n",
       "      <td>87</td>\n",
       "      <td>3.49</td>\n",
       "      <td>303.63</td>\n",
       "    </tr>\n",
       "    <tr>\n",
       "      <th>2</th>\n",
       "      <td>2020-01-07</td>\n",
       "      <td>West</td>\n",
       "      <td>Los Angeles</td>\n",
       "      <td>Cookies</td>\n",
       "      <td>Chocolate Chip</td>\n",
       "      <td>58</td>\n",
       "      <td>1.87</td>\n",
       "      <td>108.46</td>\n",
       "    </tr>\n",
       "    <tr>\n",
       "      <th>3</th>\n",
       "      <td>2020-01-10</td>\n",
       "      <td>East</td>\n",
       "      <td>New York</td>\n",
       "      <td>Cookies</td>\n",
       "      <td>Chocolate Chip</td>\n",
       "      <td>82</td>\n",
       "      <td>1.87</td>\n",
       "      <td>153.34</td>\n",
       "    </tr>\n",
       "    <tr>\n",
       "      <th>4</th>\n",
       "      <td>2020-01-13</td>\n",
       "      <td>East</td>\n",
       "      <td>Boston</td>\n",
       "      <td>Cookies</td>\n",
       "      <td>Arrowroot</td>\n",
       "      <td>38</td>\n",
       "      <td>2.18</td>\n",
       "      <td>82.84</td>\n",
       "    </tr>\n",
       "    <tr>\n",
       "      <th>...</th>\n",
       "      <td>...</td>\n",
       "      <td>...</td>\n",
       "      <td>...</td>\n",
       "      <td>...</td>\n",
       "      <td>...</td>\n",
       "      <td>...</td>\n",
       "      <td>...</td>\n",
       "      <td>...</td>\n",
       "    </tr>\n",
       "    <tr>\n",
       "      <th>239</th>\n",
       "      <td>2021-12-18</td>\n",
       "      <td>East</td>\n",
       "      <td>Boston</td>\n",
       "      <td>Cookies</td>\n",
       "      <td>Arrowroot</td>\n",
       "      <td>34</td>\n",
       "      <td>2.18</td>\n",
       "      <td>74.12</td>\n",
       "    </tr>\n",
       "    <tr>\n",
       "      <th>240</th>\n",
       "      <td>2021-12-21</td>\n",
       "      <td>East</td>\n",
       "      <td>Boston</td>\n",
       "      <td>Cookies</td>\n",
       "      <td>Chocolate Chip</td>\n",
       "      <td>245</td>\n",
       "      <td>1.87</td>\n",
       "      <td>458.15</td>\n",
       "    </tr>\n",
       "    <tr>\n",
       "      <th>241</th>\n",
       "      <td>2021-12-24</td>\n",
       "      <td>East</td>\n",
       "      <td>Boston</td>\n",
       "      <td>Crackers</td>\n",
       "      <td>Whole Wheat</td>\n",
       "      <td>30</td>\n",
       "      <td>3.49</td>\n",
       "      <td>104.70</td>\n",
       "    </tr>\n",
       "    <tr>\n",
       "      <th>242</th>\n",
       "      <td>2021-12-27</td>\n",
       "      <td>West</td>\n",
       "      <td>Los Angeles</td>\n",
       "      <td>Bars</td>\n",
       "      <td>Bran</td>\n",
       "      <td>30</td>\n",
       "      <td>1.87</td>\n",
       "      <td>56.10</td>\n",
       "    </tr>\n",
       "    <tr>\n",
       "      <th>243</th>\n",
       "      <td>2021-12-30</td>\n",
       "      <td>West</td>\n",
       "      <td>Los Angeles</td>\n",
       "      <td>Cookies</td>\n",
       "      <td>Oatmeal Raisin</td>\n",
       "      <td>44</td>\n",
       "      <td>2.84</td>\n",
       "      <td>124.96</td>\n",
       "    </tr>\n",
       "  </tbody>\n",
       "</table>\n",
       "<p>244 rows × 8 columns</p>\n",
       "</div>"
      ],
      "text/plain": [
       "     OrderDate Region         City  Category         Product  Quantity  \\\n",
       "0   2020-01-01   East       Boston      Bars          Carrot        33   \n",
       "1   2020-01-04   East       Boston  Crackers     Whole Wheat        87   \n",
       "2   2020-01-07   West  Los Angeles   Cookies  Chocolate Chip        58   \n",
       "3   2020-01-10   East     New York   Cookies  Chocolate Chip        82   \n",
       "4   2020-01-13   East       Boston   Cookies       Arrowroot        38   \n",
       "..         ...    ...          ...       ...             ...       ...   \n",
       "239 2021-12-18   East       Boston   Cookies       Arrowroot        34   \n",
       "240 2021-12-21   East       Boston   Cookies  Chocolate Chip       245   \n",
       "241 2021-12-24   East       Boston  Crackers     Whole Wheat        30   \n",
       "242 2021-12-27   West  Los Angeles      Bars            Bran        30   \n",
       "243 2021-12-30   West  Los Angeles   Cookies  Oatmeal Raisin        44   \n",
       "\n",
       "     UnitPrice  TotalPrice  \n",
       "0         1.77       58.41  \n",
       "1         3.49      303.63  \n",
       "2         1.87      108.46  \n",
       "3         1.87      153.34  \n",
       "4         2.18       82.84  \n",
       "..         ...         ...  \n",
       "239       2.18       74.12  \n",
       "240       1.87      458.15  \n",
       "241       3.49      104.70  \n",
       "242       1.87       56.10  \n",
       "243       2.84      124.96  \n",
       "\n",
       "[244 rows x 8 columns]"
      ]
     },
     "execution_count": 6,
     "metadata": {},
     "output_type": "execute_result"
    }
   ],
   "source": [
    "food"
   ]
  },
  {
   "cell_type": "markdown",
   "metadata": {},
   "source": [
    "Nou kapab we ke chak liy gen yon nonb ki bo kote l, soti nan zero rive nan 243. Pa defo `index` la se lis nonb ki komanse nan zero a. Pa defo le w kreye yon DataFrame, si w pa tou spesifye `index` la. Pandas ap kreye youn otomatikman pou ou.  \n",
    "Nan Pandas ou kapab idantifye liy yo avek led yon `label` oubyen pozisyon egzakt yo. Egzanp nou genyen pi wo a idantifye liy yo avek pozisyon egzakt yo,nou kapab itilize `label` tou, ann gade koman nou ka fe sa.\n"
   ]
  },
  {
   "cell_type": "markdown",
   "metadata": {},
   "source": [
    "Pou nou asiye yon `index` ,nou itilize `set_index()`. Nou kapab pase l yon lis ki gen menm kantite eleman ak tablo a oubyen yon kolonn nan tablo a, ann eseye fe sa ak `food`."
   ]
  },
  {
   "cell_type": "code",
   "execution_count": 7,
   "metadata": {},
   "outputs": [
    {
     "data": {
      "text/html": [
       "<div>\n",
       "<style scoped>\n",
       "    .dataframe tbody tr th:only-of-type {\n",
       "        vertical-align: middle;\n",
       "    }\n",
       "\n",
       "    .dataframe tbody tr th {\n",
       "        vertical-align: top;\n",
       "    }\n",
       "\n",
       "    .dataframe thead th {\n",
       "        text-align: right;\n",
       "    }\n",
       "</style>\n",
       "<table border=\"1\" class=\"dataframe\">\n",
       "  <thead>\n",
       "    <tr style=\"text-align: right;\">\n",
       "      <th></th>\n",
       "      <th>Region</th>\n",
       "      <th>City</th>\n",
       "      <th>Category</th>\n",
       "      <th>Product</th>\n",
       "      <th>Quantity</th>\n",
       "      <th>UnitPrice</th>\n",
       "      <th>TotalPrice</th>\n",
       "    </tr>\n",
       "    <tr>\n",
       "      <th>OrderDate</th>\n",
       "      <th></th>\n",
       "      <th></th>\n",
       "      <th></th>\n",
       "      <th></th>\n",
       "      <th></th>\n",
       "      <th></th>\n",
       "      <th></th>\n",
       "    </tr>\n",
       "  </thead>\n",
       "  <tbody>\n",
       "    <tr>\n",
       "      <th>2020-01-01</th>\n",
       "      <td>East</td>\n",
       "      <td>Boston</td>\n",
       "      <td>Bars</td>\n",
       "      <td>Carrot</td>\n",
       "      <td>33</td>\n",
       "      <td>1.77</td>\n",
       "      <td>58.41</td>\n",
       "    </tr>\n",
       "    <tr>\n",
       "      <th>2020-01-04</th>\n",
       "      <td>East</td>\n",
       "      <td>Boston</td>\n",
       "      <td>Crackers</td>\n",
       "      <td>Whole Wheat</td>\n",
       "      <td>87</td>\n",
       "      <td>3.49</td>\n",
       "      <td>303.63</td>\n",
       "    </tr>\n",
       "    <tr>\n",
       "      <th>2020-01-07</th>\n",
       "      <td>West</td>\n",
       "      <td>Los Angeles</td>\n",
       "      <td>Cookies</td>\n",
       "      <td>Chocolate Chip</td>\n",
       "      <td>58</td>\n",
       "      <td>1.87</td>\n",
       "      <td>108.46</td>\n",
       "    </tr>\n",
       "    <tr>\n",
       "      <th>2020-01-10</th>\n",
       "      <td>East</td>\n",
       "      <td>New York</td>\n",
       "      <td>Cookies</td>\n",
       "      <td>Chocolate Chip</td>\n",
       "      <td>82</td>\n",
       "      <td>1.87</td>\n",
       "      <td>153.34</td>\n",
       "    </tr>\n",
       "    <tr>\n",
       "      <th>2020-01-13</th>\n",
       "      <td>East</td>\n",
       "      <td>Boston</td>\n",
       "      <td>Cookies</td>\n",
       "      <td>Arrowroot</td>\n",
       "      <td>38</td>\n",
       "      <td>2.18</td>\n",
       "      <td>82.84</td>\n",
       "    </tr>\n",
       "    <tr>\n",
       "      <th>...</th>\n",
       "      <td>...</td>\n",
       "      <td>...</td>\n",
       "      <td>...</td>\n",
       "      <td>...</td>\n",
       "      <td>...</td>\n",
       "      <td>...</td>\n",
       "      <td>...</td>\n",
       "    </tr>\n",
       "    <tr>\n",
       "      <th>2021-12-18</th>\n",
       "      <td>East</td>\n",
       "      <td>Boston</td>\n",
       "      <td>Cookies</td>\n",
       "      <td>Arrowroot</td>\n",
       "      <td>34</td>\n",
       "      <td>2.18</td>\n",
       "      <td>74.12</td>\n",
       "    </tr>\n",
       "    <tr>\n",
       "      <th>2021-12-21</th>\n",
       "      <td>East</td>\n",
       "      <td>Boston</td>\n",
       "      <td>Cookies</td>\n",
       "      <td>Chocolate Chip</td>\n",
       "      <td>245</td>\n",
       "      <td>1.87</td>\n",
       "      <td>458.15</td>\n",
       "    </tr>\n",
       "    <tr>\n",
       "      <th>2021-12-24</th>\n",
       "      <td>East</td>\n",
       "      <td>Boston</td>\n",
       "      <td>Crackers</td>\n",
       "      <td>Whole Wheat</td>\n",
       "      <td>30</td>\n",
       "      <td>3.49</td>\n",
       "      <td>104.70</td>\n",
       "    </tr>\n",
       "    <tr>\n",
       "      <th>2021-12-27</th>\n",
       "      <td>West</td>\n",
       "      <td>Los Angeles</td>\n",
       "      <td>Bars</td>\n",
       "      <td>Bran</td>\n",
       "      <td>30</td>\n",
       "      <td>1.87</td>\n",
       "      <td>56.10</td>\n",
       "    </tr>\n",
       "    <tr>\n",
       "      <th>2021-12-30</th>\n",
       "      <td>West</td>\n",
       "      <td>Los Angeles</td>\n",
       "      <td>Cookies</td>\n",
       "      <td>Oatmeal Raisin</td>\n",
       "      <td>44</td>\n",
       "      <td>2.84</td>\n",
       "      <td>124.96</td>\n",
       "    </tr>\n",
       "  </tbody>\n",
       "</table>\n",
       "<p>244 rows × 7 columns</p>\n",
       "</div>"
      ],
      "text/plain": [
       "           Region         City  Category         Product  Quantity  UnitPrice  \\\n",
       "OrderDate                                                                       \n",
       "2020-01-01   East       Boston      Bars          Carrot        33       1.77   \n",
       "2020-01-04   East       Boston  Crackers     Whole Wheat        87       3.49   \n",
       "2020-01-07   West  Los Angeles   Cookies  Chocolate Chip        58       1.87   \n",
       "2020-01-10   East     New York   Cookies  Chocolate Chip        82       1.87   \n",
       "2020-01-13   East       Boston   Cookies       Arrowroot        38       2.18   \n",
       "...           ...          ...       ...             ...       ...        ...   \n",
       "2021-12-18   East       Boston   Cookies       Arrowroot        34       2.18   \n",
       "2021-12-21   East       Boston   Cookies  Chocolate Chip       245       1.87   \n",
       "2021-12-24   East       Boston  Crackers     Whole Wheat        30       3.49   \n",
       "2021-12-27   West  Los Angeles      Bars            Bran        30       1.87   \n",
       "2021-12-30   West  Los Angeles   Cookies  Oatmeal Raisin        44       2.84   \n",
       "\n",
       "            TotalPrice  \n",
       "OrderDate               \n",
       "2020-01-01       58.41  \n",
       "2020-01-04      303.63  \n",
       "2020-01-07      108.46  \n",
       "2020-01-10      153.34  \n",
       "2020-01-13       82.84  \n",
       "...                ...  \n",
       "2021-12-18       74.12  \n",
       "2021-12-21      458.15  \n",
       "2021-12-24      104.70  \n",
       "2021-12-27       56.10  \n",
       "2021-12-30      124.96  \n",
       "\n",
       "[244 rows x 7 columns]"
      ]
     },
     "metadata": {},
     "output_type": "display_data"
    }
   ],
   "source": [
    "food_label=food.set_index(\"OrderDate\")\n",
    "display(food_label)"
   ]
  },
  {
   "cell_type": "markdown",
   "metadata": {},
   "source": [
    "Nan egzanp sa nou itilize  kolonn `OrderDate` la kom `index`"
   ]
  },
  {
   "cell_type": "markdown",
   "metadata": {},
   "source": [
    "Pou seleksyon done nan yon DataFrame Pandas genyen pwop operate li ki se `iloc[liy, kolonn]` avek `loc[liy, kolonn]`. Pou nou kapab fe operasyon ki pi avanse se yo nou dwe itilize."
   ]
  },
  {
   "cell_type": "markdown",
   "metadata": {},
   "source": [
    "## Seleksyon baze sou pozisyon nimerik"
   ]
  },
  {
   "cell_type": "markdown",
   "metadata": {},
   "source": [
    "`iloc` pemet nou seleksyon done nan yon DataFrame avek led pozisyon nimerik li. Pa egzanp,pou nou seleksyone premye liy nan DataFrame `food` la, nou kapab fe:"
   ]
  },
  {
   "cell_type": "code",
   "execution_count": 8,
   "metadata": {},
   "outputs": [
    {
     "data": {
      "text/plain": [
       "OrderDate     2020-01-01 00:00:00\n",
       "Region                       East\n",
       "City                       Boston\n",
       "Category                     Bars\n",
       "Product                    Carrot\n",
       "Quantity                       33\n",
       "UnitPrice                    1.77\n",
       "TotalPrice                  58.41\n",
       "Name: 0, dtype: object"
      ]
     },
     "execution_count": 8,
     "metadata": {},
     "output_type": "execute_result"
    }
   ],
   "source": [
    "food.iloc[0,:]"
   ]
  },
  {
   "cell_type": "markdown",
   "metadata": {},
   "source": [
    "Pou nou pran yon kolonn avek iloc, nou kapab fe:"
   ]
  },
  {
   "cell_type": "code",
   "execution_count": 9,
   "metadata": {},
   "outputs": [
    {
     "data": {
      "text/plain": [
       "0     2020-01-01\n",
       "1     2020-01-04\n",
       "2     2020-01-07\n",
       "3     2020-01-10\n",
       "4     2020-01-13\n",
       "         ...    \n",
       "239   2021-12-18\n",
       "240   2021-12-21\n",
       "241   2021-12-24\n",
       "242   2021-12-27\n",
       "243   2021-12-30\n",
       "Name: OrderDate, Length: 244, dtype: datetime64[ns]"
      ]
     },
     "execution_count": 9,
     "metadata": {},
     "output_type": "execute_result"
    }
   ],
   "source": [
    "food.iloc[:, 0] # Zero reprezante premye kolonn lan"
   ]
  },
  {
   "cell_type": "markdown",
   "metadata": {},
   "source": [
    "Le l poukont li, operate `:` vle di `pran tout vale`, men le w konbine l avek lot vale , li kapab pemet ou seleksyone yon ansanm vale. Pa egzanp, pou nou pran 3 premye liy nan premye kolonn lan nou ka fe:"
   ]
  },
  {
   "cell_type": "code",
   "execution_count": 10,
   "metadata": {},
   "outputs": [
    {
     "data": {
      "text/plain": [
       "0   2020-01-01\n",
       "1   2020-01-04\n",
       "2   2020-01-07\n",
       "Name: OrderDate, dtype: datetime64[ns]"
      ]
     },
     "execution_count": 10,
     "metadata": {},
     "output_type": "execute_result"
    }
   ],
   "source": [
    "food.iloc[:3, 0]"
   ]
  },
  {
   "cell_type": "markdown",
   "metadata": {},
   "source": [
    "## Seleksyon baze sou label"
   ]
  },
  {
   "cell_type": "markdown",
   "metadata": {},
   "source": [
    "Dezyem fason ou ka seleksyone done nan yon DataFrame se le w itilize `label` , pou sa nou seve avec `loc`. Nan ekzanp food la nou kapab itilize:"
   ]
  },
  {
   "cell_type": "code",
   "execution_count": 11,
   "metadata": {},
   "outputs": [
    {
     "data": {
      "text/html": [
       "<div>\n",
       "<style scoped>\n",
       "    .dataframe tbody tr th:only-of-type {\n",
       "        vertical-align: middle;\n",
       "    }\n",
       "\n",
       "    .dataframe tbody tr th {\n",
       "        vertical-align: top;\n",
       "    }\n",
       "\n",
       "    .dataframe thead th {\n",
       "        text-align: right;\n",
       "    }\n",
       "</style>\n",
       "<table border=\"1\" class=\"dataframe\">\n",
       "  <thead>\n",
       "    <tr style=\"text-align: right;\">\n",
       "      <th></th>\n",
       "      <th>Region</th>\n",
       "      <th>City</th>\n",
       "      <th>Category</th>\n",
       "      <th>Product</th>\n",
       "      <th>Quantity</th>\n",
       "      <th>UnitPrice</th>\n",
       "      <th>TotalPrice</th>\n",
       "    </tr>\n",
       "    <tr>\n",
       "      <th>OrderDate</th>\n",
       "      <th></th>\n",
       "      <th></th>\n",
       "      <th></th>\n",
       "      <th></th>\n",
       "      <th></th>\n",
       "      <th></th>\n",
       "      <th></th>\n",
       "    </tr>\n",
       "  </thead>\n",
       "  <tbody>\n",
       "    <tr>\n",
       "      <th>2020-01-01</th>\n",
       "      <td>East</td>\n",
       "      <td>Boston</td>\n",
       "      <td>Bars</td>\n",
       "      <td>Carrot</td>\n",
       "      <td>33</td>\n",
       "      <td>1.77</td>\n",
       "      <td>58.41</td>\n",
       "    </tr>\n",
       "    <tr>\n",
       "      <th>2020-01-04</th>\n",
       "      <td>East</td>\n",
       "      <td>Boston</td>\n",
       "      <td>Crackers</td>\n",
       "      <td>Whole Wheat</td>\n",
       "      <td>87</td>\n",
       "      <td>3.49</td>\n",
       "      <td>303.63</td>\n",
       "    </tr>\n",
       "    <tr>\n",
       "      <th>2020-01-07</th>\n",
       "      <td>West</td>\n",
       "      <td>Los Angeles</td>\n",
       "      <td>Cookies</td>\n",
       "      <td>Chocolate Chip</td>\n",
       "      <td>58</td>\n",
       "      <td>1.87</td>\n",
       "      <td>108.46</td>\n",
       "    </tr>\n",
       "    <tr>\n",
       "      <th>2020-01-10</th>\n",
       "      <td>East</td>\n",
       "      <td>New York</td>\n",
       "      <td>Cookies</td>\n",
       "      <td>Chocolate Chip</td>\n",
       "      <td>82</td>\n",
       "      <td>1.87</td>\n",
       "      <td>153.34</td>\n",
       "    </tr>\n",
       "  </tbody>\n",
       "</table>\n",
       "</div>"
      ],
      "text/plain": [
       "           Region         City  Category         Product  Quantity  UnitPrice  \\\n",
       "OrderDate                                                                       \n",
       "2020-01-01   East       Boston      Bars          Carrot        33       1.77   \n",
       "2020-01-04   East       Boston  Crackers     Whole Wheat        87       3.49   \n",
       "2020-01-07   West  Los Angeles   Cookies  Chocolate Chip        58       1.87   \n",
       "2020-01-10   East     New York   Cookies  Chocolate Chip        82       1.87   \n",
       "\n",
       "            TotalPrice  \n",
       "OrderDate               \n",
       "2020-01-01       58.41  \n",
       "2020-01-04      303.63  \n",
       "2020-01-07      108.46  \n",
       "2020-01-10      153.34  "
      ]
     },
     "execution_count": 11,
     "metadata": {},
     "output_type": "execute_result"
    }
   ],
   "source": [
    "food_label.loc['2020-01-01':'2020-01-10', :]"
   ]
  },
  {
   "cell_type": "markdown",
   "metadata": {},
   "source": [
    "Remake ke le nou itilize loc la, li pran denye vale nou spesifye a, se youn nan diferans ki genyen ant `iloc` avek `loc`, kote `iloc` la retire denye vale a, `loc` li menm enklisif pa rapo ak denye vale ou spesifye nan `range` ou an"
   ]
  }
 ],
 "metadata": {
  "kernelspec": {
   "name": "python391jvsc74a57bd0aee8b7b246df8f9039afb4144a1f6fd8d2ca17a180786b69acc140d282b71a49",
   "display_name": "Python 3.9.1 64-bit"
  },
  "language_info": {
   "codemirror_mode": {
    "name": "ipython",
    "version": 3
   },
   "file_extension": ".py",
   "mimetype": "text/x-python",
   "name": "python",
   "nbconvert_exporter": "python",
   "pygments_lexer": "ipython3",
   "version": "3.9.1"
  },
  "metadata": {
   "interpreter": {
    "hash": "aee8b7b246df8f9039afb4144a1f6fd8d2ca17a180786b69acc140d282b71a49"
   }
  }
 },
 "nbformat": 4,
 "nbformat_minor": 4
}